{
  "nbformat": 4,
  "nbformat_minor": 0,
  "metadata": {
    "colab": {
      "provenance": []
    },
    "kernelspec": {
      "name": "python3",
      "display_name": "Python 3"
    },
    "language_info": {
      "name": "python"
    }
  },
  "cells": [
    {
      "cell_type": "markdown",
      "source": [
        "# Create dataframe"
      ],
      "metadata": {
        "id": "NTUQCSpfus2_"
      }
    },
    {
      "cell_type": "code",
      "execution_count": 367,
      "metadata": {
        "id": "iwe7ZSOUlyUo"
      },
      "outputs": [],
      "source": [
        "import pandas as pd"
      ]
    },
    {
      "cell_type": "code",
      "source": [
        "df = pd.read_csv('/content/FY2020_2024_Contracts_All.csv')"
      ],
      "metadata": {
        "colab": {
          "base_uri": "https://localhost:8080/"
        },
        "id": "yfu_S0Bul_2F",
        "outputId": "7aaf7a56-c2be-437b-9144-4a4f3ae84000"
      },
      "execution_count": 368,
      "outputs": [
        {
          "output_type": "stream",
          "name": "stderr",
          "text": [
            "<ipython-input-368-7d160cd5b14e>:1: DtypeWarning: Columns (16,47,71,72,81,110,111,112,113,114,117,118,119,120,121,122,123,124,125,126,127,128,129,130,131,132,133,134,135,136,137,138,139,140,142,143,144,145,146,147,148,149,150,151,152,154,155,156,157,158,159,160,161,162,163,164,165,166,167,168,169,170,171,172,173,174,175,176,177,178,179,180,181,182,183,184,185,186,187,188,189,190,191,192,193,194,195,196,197,198,199,200,201,202,203,204,205,206,207,208,209,210,211,212,213,214,215,216,217,218,219,220,221,222,223,224,225,226,227,228,229,230,231,232,233,234,235,236,237,238,239,240,241,242,243,244,245,246,247,248,249,250,251,252,253,254,255,256,257,258,259,260,261,262,263,264,265,266,267,268,269,270,271,272,273,274,275,276,277,278,279,280,281,282,283,284,286,288,290,292,294,295,296) have mixed types. Specify dtype option on import or set low_memory=False.\n",
            "  df = pd.read_csv('/content/FY2020_2024_Contracts_All.csv')\n"
          ]
        }
      ]
    },
    {
      "cell_type": "code",
      "source": [
        "df.shape"
      ],
      "metadata": {
        "colab": {
          "base_uri": "https://localhost:8080/"
        },
        "id": "e88_12VVpIty",
        "outputId": "dcd423ec-5870-4d12-f2f6-8b62e3669975"
      },
      "execution_count": 369,
      "outputs": [
        {
          "output_type": "execute_result",
          "data": {
            "text/plain": [
              "(56648, 297)"
            ]
          },
          "metadata": {},
          "execution_count": 369
        }
      ]
    },
    {
      "cell_type": "code",
      "source": [
        "df.head(3)"
      ],
      "metadata": {
        "colab": {
          "base_uri": "https://localhost:8080/",
          "height": 245
        },
        "id": "ZSuIwdhqnCTZ",
        "outputId": "529ba1a8-14bc-434a-8ff5-691fcdba2117"
      },
      "execution_count": 370,
      "outputs": [
        {
          "output_type": "execute_result",
          "data": {
            "text/plain": [
              "                  contract_transaction_unique_key  \\\n",
              "0                6800_6800_0005_P00025_EPC18008_0   \n",
              "1  6800_6800_68HE0320F0077_P00013_68HE0118D0004_0   \n",
              "2  6800_6800_68HE0320F0077_P00014_68HE0118D0004_0   \n",
              "\n",
              "                        contract_award_unique_key  award_id_piid  \\\n",
              "0                CONT_AWD_0005_6800_EPC18008_6800           0005   \n",
              "1  CONT_AWD_68HE0320F0077_6800_68HE0118D0004_6800  68HE0320F0077   \n",
              "2  CONT_AWD_68HE0320F0077_6800_68HE0118D0004_6800  68HE0320F0077   \n",
              "\n",
              "  modification_number  transaction_number  parent_award_agency_id  \\\n",
              "0              P00025                 0.0                  6800.0   \n",
              "1              P00013                 0.0                  6800.0   \n",
              "2              P00014                 0.0                  6800.0   \n",
              "\n",
              "          parent_award_agency_name parent_award_id_piid  \\\n",
              "0  ENVIRONMENTAL PROTECTION AGENCY             EPC18008   \n",
              "1  ENVIRONMENTAL PROTECTION AGENCY        68HE0118D0004   \n",
              "2  ENVIRONMENTAL PROTECTION AGENCY        68HE0118D0004   \n",
              "\n",
              "  parent_award_modification_number  federal_action_obligation  ...  \\\n",
              "0                                0                   -1310.23  ...   \n",
              "1                                0                       0.00  ...   \n",
              "2                                0                       0.00  ...   \n",
              "\n",
              "   highly_compensated_officer_2_amount  highly_compensated_officer_3_name  \\\n",
              "0                             345000.0                     SHERYLL  MANOJ   \n",
              "1                                  NaN                                NaN   \n",
              "2                                  NaN                                NaN   \n",
              "\n",
              "   highly_compensated_officer_3_amount  highly_compensated_officer_4_name  \\\n",
              "0                             345000.0                     SHERYLL  MANOJ   \n",
              "1                                  NaN                                NaN   \n",
              "2                                  NaN                                NaN   \n",
              "\n",
              "   highly_compensated_officer_4_amount  highly_compensated_officer_5_name  \\\n",
              "0                             345000.0                     SHERYLL  MANOJ   \n",
              "1                                  NaN                                NaN   \n",
              "2                                  NaN                                NaN   \n",
              "\n",
              "  highly_compensated_officer_5_amount  \\\n",
              "0                            345000.0   \n",
              "1                                 NaN   \n",
              "2                                 NaN   \n",
              "\n",
              "                               usaspending_permalink  initial_report_date  \\\n",
              "0  https://www.usaspending.gov/award/CONT_AWD_000...           11/20/2023   \n",
              "1  https://www.usaspending.gov/award/CONT_AWD_68H...           10/13/2023   \n",
              "2  https://www.usaspending.gov/award/CONT_AWD_68H...           10/13/2023   \n",
              "\n",
              "   last_modified_date  \n",
              "0          11/30/2023  \n",
              "1          10/13/2023  \n",
              "2          10/13/2023  \n",
              "\n",
              "[3 rows x 297 columns]"
            ],
            "text/html": [
              "\n",
              "  <div id=\"df-ec6d60b5-ea52-458f-9ecc-5a509b6c500b\" class=\"colab-df-container\">\n",
              "    <div>\n",
              "<style scoped>\n",
              "    .dataframe tbody tr th:only-of-type {\n",
              "        vertical-align: middle;\n",
              "    }\n",
              "\n",
              "    .dataframe tbody tr th {\n",
              "        vertical-align: top;\n",
              "    }\n",
              "\n",
              "    .dataframe thead th {\n",
              "        text-align: right;\n",
              "    }\n",
              "</style>\n",
              "<table border=\"1\" class=\"dataframe\">\n",
              "  <thead>\n",
              "    <tr style=\"text-align: right;\">\n",
              "      <th></th>\n",
              "      <th>contract_transaction_unique_key</th>\n",
              "      <th>contract_award_unique_key</th>\n",
              "      <th>award_id_piid</th>\n",
              "      <th>modification_number</th>\n",
              "      <th>transaction_number</th>\n",
              "      <th>parent_award_agency_id</th>\n",
              "      <th>parent_award_agency_name</th>\n",
              "      <th>parent_award_id_piid</th>\n",
              "      <th>parent_award_modification_number</th>\n",
              "      <th>federal_action_obligation</th>\n",
              "      <th>...</th>\n",
              "      <th>highly_compensated_officer_2_amount</th>\n",
              "      <th>highly_compensated_officer_3_name</th>\n",
              "      <th>highly_compensated_officer_3_amount</th>\n",
              "      <th>highly_compensated_officer_4_name</th>\n",
              "      <th>highly_compensated_officer_4_amount</th>\n",
              "      <th>highly_compensated_officer_5_name</th>\n",
              "      <th>highly_compensated_officer_5_amount</th>\n",
              "      <th>usaspending_permalink</th>\n",
              "      <th>initial_report_date</th>\n",
              "      <th>last_modified_date</th>\n",
              "    </tr>\n",
              "  </thead>\n",
              "  <tbody>\n",
              "    <tr>\n",
              "      <th>0</th>\n",
              "      <td>6800_6800_0005_P00025_EPC18008_0</td>\n",
              "      <td>CONT_AWD_0005_6800_EPC18008_6800</td>\n",
              "      <td>0005</td>\n",
              "      <td>P00025</td>\n",
              "      <td>0.0</td>\n",
              "      <td>6800.0</td>\n",
              "      <td>ENVIRONMENTAL PROTECTION AGENCY</td>\n",
              "      <td>EPC18008</td>\n",
              "      <td>0</td>\n",
              "      <td>-1310.23</td>\n",
              "      <td>...</td>\n",
              "      <td>345000.0</td>\n",
              "      <td>SHERYLL  MANOJ</td>\n",
              "      <td>345000.0</td>\n",
              "      <td>SHERYLL  MANOJ</td>\n",
              "      <td>345000.0</td>\n",
              "      <td>SHERYLL  MANOJ</td>\n",
              "      <td>345000.0</td>\n",
              "      <td>https://www.usaspending.gov/award/CONT_AWD_000...</td>\n",
              "      <td>11/20/2023</td>\n",
              "      <td>11/30/2023</td>\n",
              "    </tr>\n",
              "    <tr>\n",
              "      <th>1</th>\n",
              "      <td>6800_6800_68HE0320F0077_P00013_68HE0118D0004_0</td>\n",
              "      <td>CONT_AWD_68HE0320F0077_6800_68HE0118D0004_6800</td>\n",
              "      <td>68HE0320F0077</td>\n",
              "      <td>P00013</td>\n",
              "      <td>0.0</td>\n",
              "      <td>6800.0</td>\n",
              "      <td>ENVIRONMENTAL PROTECTION AGENCY</td>\n",
              "      <td>68HE0118D0004</td>\n",
              "      <td>0</td>\n",
              "      <td>0.00</td>\n",
              "      <td>...</td>\n",
              "      <td>NaN</td>\n",
              "      <td>NaN</td>\n",
              "      <td>NaN</td>\n",
              "      <td>NaN</td>\n",
              "      <td>NaN</td>\n",
              "      <td>NaN</td>\n",
              "      <td>NaN</td>\n",
              "      <td>https://www.usaspending.gov/award/CONT_AWD_68H...</td>\n",
              "      <td>10/13/2023</td>\n",
              "      <td>10/13/2023</td>\n",
              "    </tr>\n",
              "    <tr>\n",
              "      <th>2</th>\n",
              "      <td>6800_6800_68HE0320F0077_P00014_68HE0118D0004_0</td>\n",
              "      <td>CONT_AWD_68HE0320F0077_6800_68HE0118D0004_6800</td>\n",
              "      <td>68HE0320F0077</td>\n",
              "      <td>P00014</td>\n",
              "      <td>0.0</td>\n",
              "      <td>6800.0</td>\n",
              "      <td>ENVIRONMENTAL PROTECTION AGENCY</td>\n",
              "      <td>68HE0118D0004</td>\n",
              "      <td>0</td>\n",
              "      <td>0.00</td>\n",
              "      <td>...</td>\n",
              "      <td>NaN</td>\n",
              "      <td>NaN</td>\n",
              "      <td>NaN</td>\n",
              "      <td>NaN</td>\n",
              "      <td>NaN</td>\n",
              "      <td>NaN</td>\n",
              "      <td>NaN</td>\n",
              "      <td>https://www.usaspending.gov/award/CONT_AWD_68H...</td>\n",
              "      <td>10/13/2023</td>\n",
              "      <td>10/13/2023</td>\n",
              "    </tr>\n",
              "  </tbody>\n",
              "</table>\n",
              "<p>3 rows × 297 columns</p>\n",
              "</div>\n",
              "    <div class=\"colab-df-buttons\">\n",
              "\n",
              "  <div class=\"colab-df-container\">\n",
              "    <button class=\"colab-df-convert\" onclick=\"convertToInteractive('df-ec6d60b5-ea52-458f-9ecc-5a509b6c500b')\"\n",
              "            title=\"Convert this dataframe to an interactive table.\"\n",
              "            style=\"display:none;\">\n",
              "\n",
              "  <svg xmlns=\"http://www.w3.org/2000/svg\" height=\"24px\" viewBox=\"0 -960 960 960\">\n",
              "    <path d=\"M120-120v-720h720v720H120Zm60-500h600v-160H180v160Zm220 220h160v-160H400v160Zm0 220h160v-160H400v160ZM180-400h160v-160H180v160Zm440 0h160v-160H620v160ZM180-180h160v-160H180v160Zm440 0h160v-160H620v160Z\"/>\n",
              "  </svg>\n",
              "    </button>\n",
              "\n",
              "  <style>\n",
              "    .colab-df-container {\n",
              "      display:flex;\n",
              "      gap: 12px;\n",
              "    }\n",
              "\n",
              "    .colab-df-convert {\n",
              "      background-color: #E8F0FE;\n",
              "      border: none;\n",
              "      border-radius: 50%;\n",
              "      cursor: pointer;\n",
              "      display: none;\n",
              "      fill: #1967D2;\n",
              "      height: 32px;\n",
              "      padding: 0 0 0 0;\n",
              "      width: 32px;\n",
              "    }\n",
              "\n",
              "    .colab-df-convert:hover {\n",
              "      background-color: #E2EBFA;\n",
              "      box-shadow: 0px 1px 2px rgba(60, 64, 67, 0.3), 0px 1px 3px 1px rgba(60, 64, 67, 0.15);\n",
              "      fill: #174EA6;\n",
              "    }\n",
              "\n",
              "    .colab-df-buttons div {\n",
              "      margin-bottom: 4px;\n",
              "    }\n",
              "\n",
              "    [theme=dark] .colab-df-convert {\n",
              "      background-color: #3B4455;\n",
              "      fill: #D2E3FC;\n",
              "    }\n",
              "\n",
              "    [theme=dark] .colab-df-convert:hover {\n",
              "      background-color: #434B5C;\n",
              "      box-shadow: 0px 1px 3px 1px rgba(0, 0, 0, 0.15);\n",
              "      filter: drop-shadow(0px 1px 2px rgba(0, 0, 0, 0.3));\n",
              "      fill: #FFFFFF;\n",
              "    }\n",
              "  </style>\n",
              "\n",
              "    <script>\n",
              "      const buttonEl =\n",
              "        document.querySelector('#df-ec6d60b5-ea52-458f-9ecc-5a509b6c500b button.colab-df-convert');\n",
              "      buttonEl.style.display =\n",
              "        google.colab.kernel.accessAllowed ? 'block' : 'none';\n",
              "\n",
              "      async function convertToInteractive(key) {\n",
              "        const element = document.querySelector('#df-ec6d60b5-ea52-458f-9ecc-5a509b6c500b');\n",
              "        const dataTable =\n",
              "          await google.colab.kernel.invokeFunction('convertToInteractive',\n",
              "                                                    [key], {});\n",
              "        if (!dataTable) return;\n",
              "\n",
              "        const docLinkHtml = 'Like what you see? Visit the ' +\n",
              "          '<a target=\"_blank\" href=https://colab.research.google.com/notebooks/data_table.ipynb>data table notebook</a>'\n",
              "          + ' to learn more about interactive tables.';\n",
              "        element.innerHTML = '';\n",
              "        dataTable['output_type'] = 'display_data';\n",
              "        await google.colab.output.renderOutput(dataTable, element);\n",
              "        const docLink = document.createElement('div');\n",
              "        docLink.innerHTML = docLinkHtml;\n",
              "        element.appendChild(docLink);\n",
              "      }\n",
              "    </script>\n",
              "  </div>\n",
              "\n",
              "\n",
              "<div id=\"df-1964f8f2-5817-43c6-9175-cfc6172464a3\">\n",
              "  <button class=\"colab-df-quickchart\" onclick=\"quickchart('df-1964f8f2-5817-43c6-9175-cfc6172464a3')\"\n",
              "            title=\"Suggest charts\"\n",
              "            style=\"display:none;\">\n",
              "\n",
              "<svg xmlns=\"http://www.w3.org/2000/svg\" height=\"24px\"viewBox=\"0 0 24 24\"\n",
              "     width=\"24px\">\n",
              "    <g>\n",
              "        <path d=\"M19 3H5c-1.1 0-2 .9-2 2v14c0 1.1.9 2 2 2h14c1.1 0 2-.9 2-2V5c0-1.1-.9-2-2-2zM9 17H7v-7h2v7zm4 0h-2V7h2v10zm4 0h-2v-4h2v4z\"/>\n",
              "    </g>\n",
              "</svg>\n",
              "  </button>\n",
              "\n",
              "<style>\n",
              "  .colab-df-quickchart {\n",
              "      --bg-color: #E8F0FE;\n",
              "      --fill-color: #1967D2;\n",
              "      --hover-bg-color: #E2EBFA;\n",
              "      --hover-fill-color: #174EA6;\n",
              "      --disabled-fill-color: #AAA;\n",
              "      --disabled-bg-color: #DDD;\n",
              "  }\n",
              "\n",
              "  [theme=dark] .colab-df-quickchart {\n",
              "      --bg-color: #3B4455;\n",
              "      --fill-color: #D2E3FC;\n",
              "      --hover-bg-color: #434B5C;\n",
              "      --hover-fill-color: #FFFFFF;\n",
              "      --disabled-bg-color: #3B4455;\n",
              "      --disabled-fill-color: #666;\n",
              "  }\n",
              "\n",
              "  .colab-df-quickchart {\n",
              "    background-color: var(--bg-color);\n",
              "    border: none;\n",
              "    border-radius: 50%;\n",
              "    cursor: pointer;\n",
              "    display: none;\n",
              "    fill: var(--fill-color);\n",
              "    height: 32px;\n",
              "    padding: 0;\n",
              "    width: 32px;\n",
              "  }\n",
              "\n",
              "  .colab-df-quickchart:hover {\n",
              "    background-color: var(--hover-bg-color);\n",
              "    box-shadow: 0 1px 2px rgba(60, 64, 67, 0.3), 0 1px 3px 1px rgba(60, 64, 67, 0.15);\n",
              "    fill: var(--button-hover-fill-color);\n",
              "  }\n",
              "\n",
              "  .colab-df-quickchart-complete:disabled,\n",
              "  .colab-df-quickchart-complete:disabled:hover {\n",
              "    background-color: var(--disabled-bg-color);\n",
              "    fill: var(--disabled-fill-color);\n",
              "    box-shadow: none;\n",
              "  }\n",
              "\n",
              "  .colab-df-spinner {\n",
              "    border: 2px solid var(--fill-color);\n",
              "    border-color: transparent;\n",
              "    border-bottom-color: var(--fill-color);\n",
              "    animation:\n",
              "      spin 1s steps(1) infinite;\n",
              "  }\n",
              "\n",
              "  @keyframes spin {\n",
              "    0% {\n",
              "      border-color: transparent;\n",
              "      border-bottom-color: var(--fill-color);\n",
              "      border-left-color: var(--fill-color);\n",
              "    }\n",
              "    20% {\n",
              "      border-color: transparent;\n",
              "      border-left-color: var(--fill-color);\n",
              "      border-top-color: var(--fill-color);\n",
              "    }\n",
              "    30% {\n",
              "      border-color: transparent;\n",
              "      border-left-color: var(--fill-color);\n",
              "      border-top-color: var(--fill-color);\n",
              "      border-right-color: var(--fill-color);\n",
              "    }\n",
              "    40% {\n",
              "      border-color: transparent;\n",
              "      border-right-color: var(--fill-color);\n",
              "      border-top-color: var(--fill-color);\n",
              "    }\n",
              "    60% {\n",
              "      border-color: transparent;\n",
              "      border-right-color: var(--fill-color);\n",
              "    }\n",
              "    80% {\n",
              "      border-color: transparent;\n",
              "      border-right-color: var(--fill-color);\n",
              "      border-bottom-color: var(--fill-color);\n",
              "    }\n",
              "    90% {\n",
              "      border-color: transparent;\n",
              "      border-bottom-color: var(--fill-color);\n",
              "    }\n",
              "  }\n",
              "</style>\n",
              "\n",
              "  <script>\n",
              "    async function quickchart(key) {\n",
              "      const quickchartButtonEl =\n",
              "        document.querySelector('#' + key + ' button');\n",
              "      quickchartButtonEl.disabled = true;  // To prevent multiple clicks.\n",
              "      quickchartButtonEl.classList.add('colab-df-spinner');\n",
              "      try {\n",
              "        const charts = await google.colab.kernel.invokeFunction(\n",
              "            'suggestCharts', [key], {});\n",
              "      } catch (error) {\n",
              "        console.error('Error during call to suggestCharts:', error);\n",
              "      }\n",
              "      quickchartButtonEl.classList.remove('colab-df-spinner');\n",
              "      quickchartButtonEl.classList.add('colab-df-quickchart-complete');\n",
              "    }\n",
              "    (() => {\n",
              "      let quickchartButtonEl =\n",
              "        document.querySelector('#df-1964f8f2-5817-43c6-9175-cfc6172464a3 button');\n",
              "      quickchartButtonEl.style.display =\n",
              "        google.colab.kernel.accessAllowed ? 'block' : 'none';\n",
              "    })();\n",
              "  </script>\n",
              "</div>\n",
              "\n",
              "    </div>\n",
              "  </div>\n"
            ],
            "application/vnd.google.colaboratory.intrinsic+json": {
              "type": "dataframe",
              "variable_name": "df"
            }
          },
          "metadata": {},
          "execution_count": 370
        }
      ]
    },
    {
      "cell_type": "markdown",
      "source": [
        "# Exploratory Target Group within Larger Population"
      ],
      "metadata": {
        "id": "bWGqw0vnZU5M"
      }
    },
    {
      "cell_type": "code",
      "source": [
        "woman_owned_count = df['woman_owned_business'].value_counts()['t']\n",
        "print(f\"Number of woman-owned businesses: {woman_owned_count}\")\n",
        "not_women_owned = df[df['woman_owned_business'] != 't'].shape[0]\n",
        "print(f\"Number of non-woman-owned businesses: {not_women_owned}\")"
      ],
      "metadata": {
        "colab": {
          "base_uri": "https://localhost:8080/"
        },
        "id": "cB9gDmKDZYvx",
        "outputId": "3ac15a6c-412a-4180-a592-a87fb3a0de6e"
      },
      "execution_count": 371,
      "outputs": [
        {
          "output_type": "stream",
          "name": "stdout",
          "text": [
            "Number of woman-owned businesses: 2408\n",
            "Number of non-woman-owned businesses: 54240\n"
          ]
        }
      ]
    },
    {
      "cell_type": "code",
      "source": [
        "woman_owned_small_count = df['women_owned_small_business'].value_counts()['t']\n",
        "print(f\"Number of woman-owned small businesses: {woman_owned_small_count}\")\n",
        "not_woman_owned_small_count = df[df['women_owned_small_business'] != 't'].shape[0]\n",
        "print(f\"Number of non-woman-owned small businesses: {not_woman_owned_small_count}\")"
      ],
      "metadata": {
        "colab": {
          "base_uri": "https://localhost:8080/"
        },
        "id": "36roTZ7ba1YO",
        "outputId": "5dc162d3-1773-4eea-e027-95e55be2fb3a"
      },
      "execution_count": 372,
      "outputs": [
        {
          "output_type": "stream",
          "name": "stdout",
          "text": [
            "Number of woman-owned small businesses: 2111\n",
            "Number of non-woman-owned small businesses: 54537\n"
          ]
        }
      ]
    },
    {
      "cell_type": "code",
      "source": [
        "large_women_owned_count = woman_owned_count - woman_owned_small_count\n",
        "print(f\"Number of woman-owned large businesses: {large_women_owned_count}\")"
      ],
      "metadata": {
        "colab": {
          "base_uri": "https://localhost:8080/"
        },
        "id": "rMyM7TvibPIp",
        "outputId": "ce6b4573-87d4-4a26-afd4-63033dab30b3"
      },
      "execution_count": 373,
      "outputs": [
        {
          "output_type": "stream",
          "name": "stdout",
          "text": [
            "Number of woman-owned large businesses: 297\n"
          ]
        }
      ]
    },
    {
      "cell_type": "code",
      "source": [
        "minority_owned_count = df['minority_owned_business'].value_counts()['t']\n",
        "print(f\"Number of minority-owned businesses: {minority_owned_count}\")\n",
        "not_minority_owned_count = df[df['minority_owned_business'] != 't'].shape[0]\n",
        "print(f\"Number of non-minority-owned businesses: {not_minority_owned_count}\")"
      ],
      "metadata": {
        "colab": {
          "base_uri": "https://localhost:8080/"
        },
        "id": "dewe1pzGaLCv",
        "outputId": "406ed066-472d-4f58-b8c1-8bb2c9c55176"
      },
      "execution_count": 374,
      "outputs": [
        {
          "output_type": "stream",
          "name": "stdout",
          "text": [
            "Number of minority-owned businesses: 4224\n",
            "Number of non-minority-owned businesses: 52424\n"
          ]
        }
      ]
    },
    {
      "cell_type": "code",
      "source": [
        "minority_and_woman_owned_small_count = df[(df['minority_owned_business'] == 't') & (df['women_owned_small_business'] == 't')].shape[0]\n",
        "print(f\"Number of businesses that are minority-owned and woman-owned small businesses: {minority_and_woman_owned_small_count}\")\n",
        "other_count = len(df) - minority_and_woman_owned_small_count\n",
        "print(f\"Number of businesses that are not minority-owned and woman-owned small businesses: {other_count}\")"
      ],
      "metadata": {
        "colab": {
          "base_uri": "https://localhost:8080/"
        },
        "id": "SQC6y-a1b-5l",
        "outputId": "8ed9f104-cec1-43cb-feea-d91924caece8"
      },
      "execution_count": 375,
      "outputs": [
        {
          "output_type": "stream",
          "name": "stdout",
          "text": [
            "Number of businesses that are minority-owned and woman-owned small businesses: 926\n",
            "Number of businesses that are not minority-owned and woman-owned small businesses: 55722\n"
          ]
        }
      ]
    },
    {
      "cell_type": "code",
      "source": [
        "woman_owned_potential_value = df[df['woman_owned_business'] == 't']['potential_total_value_of_award']\n",
        "not_woman_owned_potential_value = df[df['woman_owned_business'] != 't']['potential_total_value_of_award']\n",
        "\n",
        "print(\"Woman-owned businesses:\")\n",
        "print(f\"Average potential value: {woman_owned_potential_value.mean().round(2)}\")\n",
        "print(f\"Minimum potential value: {woman_owned_potential_value.min().round(2)}\")\n",
        "print(f\"Maximum potential value: {woman_owned_potential_value.max().round(2)}\")\n",
        "print(f\"Standard deviation of potential value: {woman_owned_potential_value.std().round(2)}\")\n",
        "print(f\"Mode of potential value: {woman_owned_potential_value.mode()[0].round(2)}\")\n",
        "\n",
        "print(\"\\nNon-woman-owned businesses:\")\n",
        "print(f\"Average potential value: {not_woman_owned_potential_value.mean().round(2)}\")\n",
        "print(f\"Minimum potential value: {not_woman_owned_potential_value.min().round(2)}\")\n",
        "print(f\"Maximum potential value: {not_woman_owned_potential_value.max().round(2)}\")\n",
        "print(f\"Standard deviation of potential value: {not_woman_owned_potential_value.std().round(2)}\")\n",
        "print(f\"Mode of potential value: {not_woman_owned_potential_value.mode()[0].round(2)}\")\n"
      ],
      "metadata": {
        "colab": {
          "base_uri": "https://localhost:8080/"
        },
        "id": "wQIZfYSnc00s",
        "outputId": "7e357f24-d7e3-4b1f-edd4-3338c03a9ec6"
      },
      "execution_count": 376,
      "outputs": [
        {
          "output_type": "stream",
          "name": "stdout",
          "text": [
            "Woman-owned businesses:\n",
            "Average potential value: 11869744.19\n",
            "Minimum potential value: 0.0\n",
            "Maximum potential value: 5776500000.0\n",
            "Standard deviation of potential value: 204821435.05\n",
            "Mode of potential value: 0.0\n",
            "\n",
            "Non-woman-owned businesses:\n",
            "Average potential value: 23448551.55\n",
            "Minimum potential value: 0.0\n",
            "Maximum potential value: 64453975010.0\n",
            "Standard deviation of potential value: 782892115.13\n",
            "Mode of potential value: 0.0\n"
          ]
        }
      ]
    },
    {
      "cell_type": "code",
      "source": [
        "woman_owned_small_potential_value = df[df['women_owned_small_business'] == 't']['potential_total_value_of_award']\n",
        "not_woman_owned_small_potential_value = df[df['women_owned_small_business'] != 't']['potential_total_value_of_award']\n",
        "\n",
        "print(\"Woman-owned small businesses:\")\n",
        "print(f\"Average potential value: {woman_owned_small_potential_value.mean().round(2)}\")\n",
        "print(f\"Minimum potential value: {woman_owned_small_potential_value.min().round(2)}\")\n",
        "print(f\"Maximum potential value: {woman_owned_small_potential_value.max().round(2)}\")\n",
        "print(f\"Standard deviation of potential value: {woman_owned_small_potential_value.std().round(2)}\")\n",
        "print(f\"Mode of potential value: {woman_owned_small_potential_value.mode()[0].round(2)}\")\n",
        "\n",
        "print(\"\\nNon-woman-owned small businesses:\")\n",
        "print(f\"Average potential value: {not_woman_owned_small_potential_value.mean().round(2)}\")\n",
        "print(f\"Minimum potential value: {not_woman_owned_small_potential_value.min().round(2)}\")\n",
        "print(f\"Maximum potential value: {not_woman_owned_small_potential_value.max().round(2)}\")\n",
        "print(f\"Standard deviation of potential value: {not_woman_owned_small_potential_value.std().round(2)}\")\n",
        "print(f\"Mode of potential value: {not_woman_owned_small_potential_value.mode()[0].round(2)}\")\n"
      ],
      "metadata": {
        "colab": {
          "base_uri": "https://localhost:8080/"
        },
        "id": "KptJ0kK6dbGM",
        "outputId": "1bef6100-c00a-4652-cb35-7cd72fbaa827"
      },
      "execution_count": 377,
      "outputs": [
        {
          "output_type": "stream",
          "name": "stdout",
          "text": [
            "Woman-owned small businesses:\n",
            "Average potential value: 11991869.3\n",
            "Minimum potential value: 0.0\n",
            "Maximum potential value: 5776500000.0\n",
            "Standard deviation of potential value: 218134500.17\n",
            "Mode of potential value: 0.0\n",
            "\n",
            "Non-woman-owned small businesses:\n",
            "Average potential value: 23380767.99\n",
            "Minimum potential value: 0.0\n",
            "Maximum potential value: 64453975010.0\n",
            "Standard deviation of potential value: 780764740.42\n",
            "Mode of potential value: 0.0\n"
          ]
        }
      ]
    },
    {
      "cell_type": "code",
      "source": [
        "minority_owned_potential_value = df[df['minority_owned_business'] == 't']['potential_total_value_of_award']\n",
        "not_minority_owned_potential_value = df[df['minority_owned_business'] != 't']['potential_total_value_of_award']\n",
        "\n",
        "print(\"Minority-owned businesses:\")\n",
        "print(f\"Average potential value: {minority_owned_potential_value.mean().round(2)}\")\n",
        "print(f\"Minimum potential value: {minority_owned_potential_value.min().round(2)}\")\n",
        "print(f\"Maximum potential value: {minority_owned_potential_value.max().round(2)}\")\n",
        "print(f\"Standard deviation of potential value: {minority_owned_potential_value.std().round(2)}\")\n",
        "print(f\"Mode of potential value: {minority_owned_potential_value.mode()[0].round(2)}\")\n",
        "\n",
        "print(\"\\nNon-minority-owned businesses:\")\n",
        "print(f\"Average potential value: {not_minority_owned_potential_value.mean().round(2)}\")\n",
        "print(f\"Minimum potential value: {not_minority_owned_potential_value.min().round(2)}\")\n",
        "print(f\"Maximum potential value: {not_minority_owned_potential_value.max().round(2)}\")\n",
        "print(f\"Standard deviation of potential value: {not_minority_owned_potential_value.std().round(2)}\")\n",
        "print(f\"Mode of potential value: {not_minority_owned_potential_value.mode()[0].round(2)}\")\n"
      ],
      "metadata": {
        "colab": {
          "base_uri": "https://localhost:8080/"
        },
        "id": "LNKSVxRpdjZ0",
        "outputId": "2458617b-8a6b-4fe8-912b-9d7ca61322c1"
      },
      "execution_count": 378,
      "outputs": [
        {
          "output_type": "stream",
          "name": "stdout",
          "text": [
            "Minority-owned businesses:\n",
            "Average potential value: 12990354.06\n",
            "Minimum potential value: 0.0\n",
            "Maximum potential value: 5776500000.0\n",
            "Standard deviation of potential value: 137938295.89\n",
            "Mode of potential value: 120000.0\n",
            "\n",
            "Non-minority-owned businesses:\n",
            "Average potential value: 23759356.87\n",
            "Minimum potential value: 0.0\n",
            "Maximum potential value: 64453975010.0\n",
            "Standard deviation of potential value: 796582152.15\n",
            "Mode of potential value: 0.0\n"
          ]
        }
      ]
    },
    {
      "cell_type": "code",
      "source": [
        "minority_and_woman_owned_small_potential_value = df[(df['minority_owned_business'] == 't') & (df['women_owned_small_business'] == 't')]['potential_total_value_of_award']\n",
        "other_potential_value = df[(df['minority_owned_business'] != 't') & (df['women_owned_small_business'] != 't')]['potential_total_value_of_award']\n",
        "\n",
        "print(\"Minority-owned and woman-owned small businesses:\")\n",
        "print(f\"Average potential value: {minority_and_woman_owned_small_potential_value.mean().round(2)}\")\n",
        "print(f\"Minimum potential value: {minority_and_woman_owned_small_potential_value.min().round(2)}\")\n",
        "print(f\"Maximum potential value: {minority_and_woman_owned_small_potential_value.max().round(2)}\")\n",
        "print(f\"Standard deviation of potential value: {minority_and_woman_owned_small_potential_value.std().round(2)}\")\n",
        "print(f\"Mode of potential value: {minority_and_woman_owned_small_potential_value.mode()[0].round(2)}\")\n",
        "\n",
        "print(\"\\nOther businesses:\")\n",
        "print(f\"Average potential value: {other_potential_value.mean().round(2)}\")\n",
        "print(f\"Minimum potential value: {other_potential_value.min().round(2)}\")\n",
        "print(f\"Maximum potential value: {other_potential_value.max().round(2)}\")\n",
        "print(f\"Standard deviation of potential value: {other_potential_value.std().round(2)}\")\n",
        "print(f\"Mode of potential value: {other_potential_value.mode()[0].round(2)}\")\n"
      ],
      "metadata": {
        "colab": {
          "base_uri": "https://localhost:8080/"
        },
        "id": "ON3jFHqYdpfi",
        "outputId": "1b15604b-5a0f-484e-c4da-ccd16ef63ce6"
      },
      "execution_count": 379,
      "outputs": [
        {
          "output_type": "stream",
          "name": "stdout",
          "text": [
            "Minority-owned and woman-owned small businesses:\n",
            "Average potential value: 16862438.49\n",
            "Minimum potential value: 0.0\n",
            "Maximum potential value: 5776500000.0\n",
            "Standard deviation of potential value: 268633021.44\n",
            "Mode of potential value: 4500000.0\n",
            "\n",
            "Other businesses:\n",
            "Average potential value: 24119524.32\n",
            "Minimum potential value: 0.0\n",
            "Maximum potential value: 64453975010.0\n",
            "Standard deviation of potential value: 805330218.86\n",
            "Mode of potential value: 0.0\n"
          ]
        }
      ]
    },
    {
      "cell_type": "markdown",
      "source": [
        "# Values Evaluation"
      ],
      "metadata": {
        "id": "O9UjQ7_2ux1d"
      }
    },
    {
      "cell_type": "code",
      "source": [
        "# hand picked these columns based on intuition of predicted support to value, and range of unique values was not too large\n",
        "columns_to_select = ['potential_total_value_of_award',\n",
        "'parent_award_agency_id',\n",
        "'period_of_performance_start_date',\n",
        "'period_of_performance_potential_end_date',\n",
        "'awarding_office_code',\n",
        "'funding_office_code',\n",
        "'primary_place_of_performance_state_code',\n",
        "'award_type_code',\n",
        "'type_of_contract_pricing_code',\n",
        "'action_type_code',\n",
        "'inherently_governmental_functions',\n",
        "'contract_bundling_code',\n",
        "'place_of_manufacture_code',\n",
        "'subcontracting_plan_code',\n",
        "'solicitation_procedures_code',\n",
        "'type_of_set_aside_code',\n",
        "'research_code',\n",
        "'fair_opportunity_limited_sources_code',\n",
        "'number_of_offers_received',\n",
        "'labor_standards_code',\n",
        "'parent_award_type_code',\n",
        "'consolidated_contract_code',\n",
        "'performance_based_service_acquisition_code',\n",
        "'multi_year_contract_code',\n",
        "'contingency_humanitarian_or_peacekeeping_operation_code',\n",
        "'woman_owned_business',\n",
        "'women_owned_small_business',\n",
        "'minority_owned_business',\n",
        "'joint_venture_women_owned_small_business',\n",
        "'us_federal_government',\n",
        "'federally_funded_research_and_development_corp',\n",
        "'organizational_type',\n",
        "'emerging_small_business',\n",
        "'community_developed_corporation_owned_firm',\n",
        "'us_federal_government',\n",
        "'federally_funded_research_and_development_corp',\n",
        "'federal_agency',\n",
        "'us_state_government',\n",
        "'us_local_government',\n",
        "'educational_institution',\n",
        "'foundation',\n",
        "'hospital_flag',\n",
        "'for_profit_organization',\n",
        "'nonprofit_organization',\n",
        "'private_university_or_college',\n",
        "'sole_proprietorship'\n",
        "]"
      ],
      "metadata": {
        "id": "cFxo5NJAmSFH"
      },
      "execution_count": 380,
      "outputs": []
    },
    {
      "cell_type": "code",
      "source": [
        "# drop all columns not in my columns_to_select list\n",
        "df = df[columns_to_select]"
      ],
      "metadata": {
        "id": "yBvZZ7Rsy5DH"
      },
      "execution_count": 381,
      "outputs": []
    },
    {
      "cell_type": "code",
      "source": [
        "# create a new column of performance time that is period_of_performance_potential_end_date minus period_of_performance_start_date\n",
        "df['performance_time'] = pd.to_datetime(df['period_of_performance_potential_end_date']) - pd.to_datetime(df['period_of_performance_start_date'])"
      ],
      "metadata": {
        "id": "MakwIDQez_-3"
      },
      "execution_count": 382,
      "outputs": []
    },
    {
      "cell_type": "code",
      "source": [
        "# make column performance_time an integer\n",
        "df['performance_time'] = df['performance_time'].astype('int64')"
      ],
      "metadata": {
        "id": "gRHOp1DJ06RM"
      },
      "execution_count": 383,
      "outputs": []
    },
    {
      "cell_type": "code",
      "source": [
        "df = df.drop(['period_of_performance_potential_end_date', 'period_of_performance_start_date'], axis=1)"
      ],
      "metadata": {
        "id": "VBvt0oWd0LjJ"
      },
      "execution_count": 384,
      "outputs": []
    },
    {
      "cell_type": "code",
      "source": [
        "df.shape"
      ],
      "metadata": {
        "colab": {
          "base_uri": "https://localhost:8080/"
        },
        "id": "_j-O5703oEZQ",
        "outputId": "2c4386d3-9d16-4a64-a911-f04f00a3376e"
      },
      "execution_count": 385,
      "outputs": [
        {
          "output_type": "execute_result",
          "data": {
            "text/plain": [
              "(56648, 45)"
            ]
          },
          "metadata": {},
          "execution_count": 385
        }
      ]
    },
    {
      "cell_type": "code",
      "source": [
        "missing_values = df.isnull().sum().div(df.shape[0]).mul(100).to_frame().rename(columns={0: '% of Missing Values'})\n",
        "missing_values['Count of Missing Values'] = df.isnull().sum()\n",
        "sorted_missing_values = missing_values.sort_values(by='% of Missing Values', ascending=False)\n",
        "sorted_missing_values.head(5)"
      ],
      "metadata": {
        "colab": {
          "base_uri": "https://localhost:8080/",
          "height": 206
        },
        "id": "D01LSsmgnhd1",
        "outputId": "dc59a1b0-1bc5-48ac-a013-36581f01d58a"
      },
      "execution_count": 386,
      "outputs": [
        {
          "output_type": "execute_result",
          "data": {
            "text/plain": [
              "                                       % of Missing Values  \\\n",
              "research_code                                    99.551617   \n",
              "type_of_set_aside_code                           86.184861   \n",
              "fair_opportunity_limited_sources_code            77.677941   \n",
              "number_of_offers_received                        68.674975   \n",
              "multi_year_contract_code                         61.421409   \n",
              "\n",
              "                                       Count of Missing Values  \n",
              "research_code                                            56394  \n",
              "type_of_set_aside_code                                   48822  \n",
              "fair_opportunity_limited_sources_code                    44003  \n",
              "number_of_offers_received                                38903  \n",
              "multi_year_contract_code                                 34794  "
            ],
            "text/html": [
              "\n",
              "  <div id=\"df-aa9fee07-d67f-4b39-9055-d703e403011f\" class=\"colab-df-container\">\n",
              "    <div>\n",
              "<style scoped>\n",
              "    .dataframe tbody tr th:only-of-type {\n",
              "        vertical-align: middle;\n",
              "    }\n",
              "\n",
              "    .dataframe tbody tr th {\n",
              "        vertical-align: top;\n",
              "    }\n",
              "\n",
              "    .dataframe thead th {\n",
              "        text-align: right;\n",
              "    }\n",
              "</style>\n",
              "<table border=\"1\" class=\"dataframe\">\n",
              "  <thead>\n",
              "    <tr style=\"text-align: right;\">\n",
              "      <th></th>\n",
              "      <th>% of Missing Values</th>\n",
              "      <th>Count of Missing Values</th>\n",
              "    </tr>\n",
              "  </thead>\n",
              "  <tbody>\n",
              "    <tr>\n",
              "      <th>research_code</th>\n",
              "      <td>99.551617</td>\n",
              "      <td>56394</td>\n",
              "    </tr>\n",
              "    <tr>\n",
              "      <th>type_of_set_aside_code</th>\n",
              "      <td>86.184861</td>\n",
              "      <td>48822</td>\n",
              "    </tr>\n",
              "    <tr>\n",
              "      <th>fair_opportunity_limited_sources_code</th>\n",
              "      <td>77.677941</td>\n",
              "      <td>44003</td>\n",
              "    </tr>\n",
              "    <tr>\n",
              "      <th>number_of_offers_received</th>\n",
              "      <td>68.674975</td>\n",
              "      <td>38903</td>\n",
              "    </tr>\n",
              "    <tr>\n",
              "      <th>multi_year_contract_code</th>\n",
              "      <td>61.421409</td>\n",
              "      <td>34794</td>\n",
              "    </tr>\n",
              "  </tbody>\n",
              "</table>\n",
              "</div>\n",
              "    <div class=\"colab-df-buttons\">\n",
              "\n",
              "  <div class=\"colab-df-container\">\n",
              "    <button class=\"colab-df-convert\" onclick=\"convertToInteractive('df-aa9fee07-d67f-4b39-9055-d703e403011f')\"\n",
              "            title=\"Convert this dataframe to an interactive table.\"\n",
              "            style=\"display:none;\">\n",
              "\n",
              "  <svg xmlns=\"http://www.w3.org/2000/svg\" height=\"24px\" viewBox=\"0 -960 960 960\">\n",
              "    <path d=\"M120-120v-720h720v720H120Zm60-500h600v-160H180v160Zm220 220h160v-160H400v160Zm0 220h160v-160H400v160ZM180-400h160v-160H180v160Zm440 0h160v-160H620v160ZM180-180h160v-160H180v160Zm440 0h160v-160H620v160Z\"/>\n",
              "  </svg>\n",
              "    </button>\n",
              "\n",
              "  <style>\n",
              "    .colab-df-container {\n",
              "      display:flex;\n",
              "      gap: 12px;\n",
              "    }\n",
              "\n",
              "    .colab-df-convert {\n",
              "      background-color: #E8F0FE;\n",
              "      border: none;\n",
              "      border-radius: 50%;\n",
              "      cursor: pointer;\n",
              "      display: none;\n",
              "      fill: #1967D2;\n",
              "      height: 32px;\n",
              "      padding: 0 0 0 0;\n",
              "      width: 32px;\n",
              "    }\n",
              "\n",
              "    .colab-df-convert:hover {\n",
              "      background-color: #E2EBFA;\n",
              "      box-shadow: 0px 1px 2px rgba(60, 64, 67, 0.3), 0px 1px 3px 1px rgba(60, 64, 67, 0.15);\n",
              "      fill: #174EA6;\n",
              "    }\n",
              "\n",
              "    .colab-df-buttons div {\n",
              "      margin-bottom: 4px;\n",
              "    }\n",
              "\n",
              "    [theme=dark] .colab-df-convert {\n",
              "      background-color: #3B4455;\n",
              "      fill: #D2E3FC;\n",
              "    }\n",
              "\n",
              "    [theme=dark] .colab-df-convert:hover {\n",
              "      background-color: #434B5C;\n",
              "      box-shadow: 0px 1px 3px 1px rgba(0, 0, 0, 0.15);\n",
              "      filter: drop-shadow(0px 1px 2px rgba(0, 0, 0, 0.3));\n",
              "      fill: #FFFFFF;\n",
              "    }\n",
              "  </style>\n",
              "\n",
              "    <script>\n",
              "      const buttonEl =\n",
              "        document.querySelector('#df-aa9fee07-d67f-4b39-9055-d703e403011f button.colab-df-convert');\n",
              "      buttonEl.style.display =\n",
              "        google.colab.kernel.accessAllowed ? 'block' : 'none';\n",
              "\n",
              "      async function convertToInteractive(key) {\n",
              "        const element = document.querySelector('#df-aa9fee07-d67f-4b39-9055-d703e403011f');\n",
              "        const dataTable =\n",
              "          await google.colab.kernel.invokeFunction('convertToInteractive',\n",
              "                                                    [key], {});\n",
              "        if (!dataTable) return;\n",
              "\n",
              "        const docLinkHtml = 'Like what you see? Visit the ' +\n",
              "          '<a target=\"_blank\" href=https://colab.research.google.com/notebooks/data_table.ipynb>data table notebook</a>'\n",
              "          + ' to learn more about interactive tables.';\n",
              "        element.innerHTML = '';\n",
              "        dataTable['output_type'] = 'display_data';\n",
              "        await google.colab.output.renderOutput(dataTable, element);\n",
              "        const docLink = document.createElement('div');\n",
              "        docLink.innerHTML = docLinkHtml;\n",
              "        element.appendChild(docLink);\n",
              "      }\n",
              "    </script>\n",
              "  </div>\n",
              "\n",
              "\n",
              "<div id=\"df-7de16b6e-49c8-4b57-aef5-1fef9b1d4063\">\n",
              "  <button class=\"colab-df-quickchart\" onclick=\"quickchart('df-7de16b6e-49c8-4b57-aef5-1fef9b1d4063')\"\n",
              "            title=\"Suggest charts\"\n",
              "            style=\"display:none;\">\n",
              "\n",
              "<svg xmlns=\"http://www.w3.org/2000/svg\" height=\"24px\"viewBox=\"0 0 24 24\"\n",
              "     width=\"24px\">\n",
              "    <g>\n",
              "        <path d=\"M19 3H5c-1.1 0-2 .9-2 2v14c0 1.1.9 2 2 2h14c1.1 0 2-.9 2-2V5c0-1.1-.9-2-2-2zM9 17H7v-7h2v7zm4 0h-2V7h2v10zm4 0h-2v-4h2v4z\"/>\n",
              "    </g>\n",
              "</svg>\n",
              "  </button>\n",
              "\n",
              "<style>\n",
              "  .colab-df-quickchart {\n",
              "      --bg-color: #E8F0FE;\n",
              "      --fill-color: #1967D2;\n",
              "      --hover-bg-color: #E2EBFA;\n",
              "      --hover-fill-color: #174EA6;\n",
              "      --disabled-fill-color: #AAA;\n",
              "      --disabled-bg-color: #DDD;\n",
              "  }\n",
              "\n",
              "  [theme=dark] .colab-df-quickchart {\n",
              "      --bg-color: #3B4455;\n",
              "      --fill-color: #D2E3FC;\n",
              "      --hover-bg-color: #434B5C;\n",
              "      --hover-fill-color: #FFFFFF;\n",
              "      --disabled-bg-color: #3B4455;\n",
              "      --disabled-fill-color: #666;\n",
              "  }\n",
              "\n",
              "  .colab-df-quickchart {\n",
              "    background-color: var(--bg-color);\n",
              "    border: none;\n",
              "    border-radius: 50%;\n",
              "    cursor: pointer;\n",
              "    display: none;\n",
              "    fill: var(--fill-color);\n",
              "    height: 32px;\n",
              "    padding: 0;\n",
              "    width: 32px;\n",
              "  }\n",
              "\n",
              "  .colab-df-quickchart:hover {\n",
              "    background-color: var(--hover-bg-color);\n",
              "    box-shadow: 0 1px 2px rgba(60, 64, 67, 0.3), 0 1px 3px 1px rgba(60, 64, 67, 0.15);\n",
              "    fill: var(--button-hover-fill-color);\n",
              "  }\n",
              "\n",
              "  .colab-df-quickchart-complete:disabled,\n",
              "  .colab-df-quickchart-complete:disabled:hover {\n",
              "    background-color: var(--disabled-bg-color);\n",
              "    fill: var(--disabled-fill-color);\n",
              "    box-shadow: none;\n",
              "  }\n",
              "\n",
              "  .colab-df-spinner {\n",
              "    border: 2px solid var(--fill-color);\n",
              "    border-color: transparent;\n",
              "    border-bottom-color: var(--fill-color);\n",
              "    animation:\n",
              "      spin 1s steps(1) infinite;\n",
              "  }\n",
              "\n",
              "  @keyframes spin {\n",
              "    0% {\n",
              "      border-color: transparent;\n",
              "      border-bottom-color: var(--fill-color);\n",
              "      border-left-color: var(--fill-color);\n",
              "    }\n",
              "    20% {\n",
              "      border-color: transparent;\n",
              "      border-left-color: var(--fill-color);\n",
              "      border-top-color: var(--fill-color);\n",
              "    }\n",
              "    30% {\n",
              "      border-color: transparent;\n",
              "      border-left-color: var(--fill-color);\n",
              "      border-top-color: var(--fill-color);\n",
              "      border-right-color: var(--fill-color);\n",
              "    }\n",
              "    40% {\n",
              "      border-color: transparent;\n",
              "      border-right-color: var(--fill-color);\n",
              "      border-top-color: var(--fill-color);\n",
              "    }\n",
              "    60% {\n",
              "      border-color: transparent;\n",
              "      border-right-color: var(--fill-color);\n",
              "    }\n",
              "    80% {\n",
              "      border-color: transparent;\n",
              "      border-right-color: var(--fill-color);\n",
              "      border-bottom-color: var(--fill-color);\n",
              "    }\n",
              "    90% {\n",
              "      border-color: transparent;\n",
              "      border-bottom-color: var(--fill-color);\n",
              "    }\n",
              "  }\n",
              "</style>\n",
              "\n",
              "  <script>\n",
              "    async function quickchart(key) {\n",
              "      const quickchartButtonEl =\n",
              "        document.querySelector('#' + key + ' button');\n",
              "      quickchartButtonEl.disabled = true;  // To prevent multiple clicks.\n",
              "      quickchartButtonEl.classList.add('colab-df-spinner');\n",
              "      try {\n",
              "        const charts = await google.colab.kernel.invokeFunction(\n",
              "            'suggestCharts', [key], {});\n",
              "      } catch (error) {\n",
              "        console.error('Error during call to suggestCharts:', error);\n",
              "      }\n",
              "      quickchartButtonEl.classList.remove('colab-df-spinner');\n",
              "      quickchartButtonEl.classList.add('colab-df-quickchart-complete');\n",
              "    }\n",
              "    (() => {\n",
              "      let quickchartButtonEl =\n",
              "        document.querySelector('#df-7de16b6e-49c8-4b57-aef5-1fef9b1d4063 button');\n",
              "      quickchartButtonEl.style.display =\n",
              "        google.colab.kernel.accessAllowed ? 'block' : 'none';\n",
              "    })();\n",
              "  </script>\n",
              "</div>\n",
              "\n",
              "    </div>\n",
              "  </div>\n"
            ],
            "application/vnd.google.colaboratory.intrinsic+json": {
              "type": "dataframe",
              "variable_name": "sorted_missing_values",
              "summary": "{\n  \"name\": \"sorted_missing_values\",\n  \"rows\": 45,\n  \"fields\": [\n    {\n      \"column\": \"% of Missing Values\",\n      \"properties\": {\n        \"dtype\": \"number\",\n        \"std\": 23.223003565168945,\n        \"min\": 0.0,\n        \"max\": 99.55161700324813,\n        \"num_unique_values\": 18,\n        \"samples\": [\n          99.55161700324813,\n          86.18486089535376,\n          48.14821352916255\n        ],\n        \"semantic_type\": \"\",\n        \"description\": \"\"\n      }\n    },\n    {\n      \"column\": \"Count of Missing Values\",\n      \"properties\": {\n        \"dtype\": \"number\",\n        \"std\": 13155,\n        \"min\": 0,\n        \"max\": 56394,\n        \"num_unique_values\": 18,\n        \"samples\": [\n          56394,\n          48822,\n          27275\n        ],\n        \"semantic_type\": \"\",\n        \"description\": \"\"\n      }\n    }\n  ]\n}"
            }
          },
          "metadata": {},
          "execution_count": 386
        }
      ]
    },
    {
      "cell_type": "code",
      "source": [
        "count_variables_over_percent_missing = (sorted_missing_values['% of Missing Values'] > 50).sum()\n",
        "print(f\"Count of variables with over 50% of values missing: {count_variables_over_percent_missing}\")"
      ],
      "metadata": {
        "colab": {
          "base_uri": "https://localhost:8080/"
        },
        "id": "XWIXcXVgquaZ",
        "outputId": "6a99f7a3-32be-42c7-fb79-f23e7dfa4aa5"
      },
      "execution_count": 387,
      "outputs": [
        {
          "output_type": "stream",
          "name": "stdout",
          "text": [
            "Count of variables with over 50% of values missing: 7\n"
          ]
        }
      ]
    },
    {
      "cell_type": "code",
      "source": [
        "df = df.drop(sorted_missing_values[sorted_missing_values['% of Missing Values'] > 50].index, axis=1)"
      ],
      "metadata": {
        "id": "dAsr2VCnowOy"
      },
      "execution_count": 388,
      "outputs": []
    },
    {
      "cell_type": "code",
      "source": [
        "df.shape"
      ],
      "metadata": {
        "colab": {
          "base_uri": "https://localhost:8080/"
        },
        "id": "DhbVhMW7o3EA",
        "outputId": "b9fbe48d-b626-4d3d-96af-6adb3f0b49e0"
      },
      "execution_count": 389,
      "outputs": [
        {
          "output_type": "execute_result",
          "data": {
            "text/plain": [
              "(56648, 38)"
            ]
          },
          "metadata": {},
          "execution_count": 389
        }
      ]
    },
    {
      "cell_type": "code",
      "source": [
        "unique_values_count = df.nunique()\n",
        "unique_values_count_desc = unique_values_count.sort_values(ascending=False)\n",
        "unique_values_count_desc.head(5)"
      ],
      "metadata": {
        "colab": {
          "base_uri": "https://localhost:8080/"
        },
        "id": "YczN-_UGo3HZ",
        "outputId": "a33113f9-3cac-4b34-fed3-d689f1d68e08"
      },
      "execution_count": 390,
      "outputs": [
        {
          "output_type": "execute_result",
          "data": {
            "text/plain": [
              "potential_total_value_of_award             22170\n",
              "performance_time                            3114\n",
              "primary_place_of_performance_state_code       56\n",
              "funding_office_code                           45\n",
              "awarding_office_code                          23\n",
              "dtype: int64"
            ]
          },
          "metadata": {},
          "execution_count": 390
        }
      ]
    },
    {
      "cell_type": "code",
      "source": [
        "unique_values_count = df.nunique()\n",
        "unique_values_count_asc = unique_values_count.sort_values()\n",
        "unique_values_count_asc.head(5)"
      ],
      "metadata": {
        "colab": {
          "base_uri": "https://localhost:8080/"
        },
        "id": "T1tOurnsyDOB",
        "outputId": "2a07f099-db89-4426-eafc-4a9f71ab0adc"
      },
      "execution_count": 391,
      "outputs": [
        {
          "output_type": "execute_result",
          "data": {
            "text/plain": [
              "federally_funded_research_and_development_corp    1\n",
              "federally_funded_research_and_development_corp    1\n",
              "joint_venture_women_owned_small_business          2\n",
              "us_federal_government                             2\n",
              "emerging_small_business                           2\n",
              "dtype: int64"
            ]
          },
          "metadata": {},
          "execution_count": 391
        }
      ]
    },
    {
      "cell_type": "code",
      "source": [
        "# drop columns where the number of unique values is 1, will not contribute to analysis without variation\n",
        "df.drop(df.columns[df.nunique() == 1], axis=1, inplace=True)"
      ],
      "metadata": {
        "id": "9ixJSk1rokk_"
      },
      "execution_count": 392,
      "outputs": []
    },
    {
      "cell_type": "code",
      "source": [
        "df.shape"
      ],
      "metadata": {
        "colab": {
          "base_uri": "https://localhost:8080/"
        },
        "id": "0e07okXsor8R",
        "outputId": "5b4787d7-fb41-4496-df96-949c889a3fa0"
      },
      "execution_count": 393,
      "outputs": [
        {
          "output_type": "execute_result",
          "data": {
            "text/plain": [
              "(56648, 36)"
            ]
          },
          "metadata": {},
          "execution_count": 393
        }
      ]
    },
    {
      "cell_type": "markdown",
      "source": [
        "# Feature Manipulation"
      ],
      "metadata": {
        "id": "20Q4xb2Zu6YX"
      }
    },
    {
      "cell_type": "code",
      "source": [
        "# print  the count of each data type in my filtered dataframe\n",
        "df.dtypes.value_counts()"
      ],
      "metadata": {
        "colab": {
          "base_uri": "https://localhost:8080/"
        },
        "id": "OupX4MfS18If",
        "outputId": "734ad647-3dba-4298-c201-728dae06904b"
      },
      "execution_count": 394,
      "outputs": [
        {
          "output_type": "execute_result",
          "data": {
            "text/plain": [
              "object     33\n",
              "float64     2\n",
              "int64       1\n",
              "dtype: int64"
            ]
          },
          "metadata": {},
          "execution_count": 394
        }
      ]
    },
    {
      "cell_type": "code",
      "source": [
        "# Get numerical columns\n",
        "numerical_columns = df.select_dtypes(include=['int64', 'float64']).columns\n",
        "\n",
        "# Calculate correlation matrix\n",
        "correlation_matrix = df[numerical_columns].corr()\n",
        "\n",
        "# Get correlation of target variable with other variables\n",
        "target_variable = 'potential_total_value_of_award'\n",
        "correlations = correlation_matrix[target_variable].sort_values(ascending=False)\n",
        "\n",
        "# Display correlations\n",
        "print(correlations)"
      ],
      "metadata": {
        "colab": {
          "base_uri": "https://localhost:8080/"
        },
        "id": "m-oCwgtE30WB",
        "outputId": "fbd91608-b971-410b-eac6-7f740af36e13"
      },
      "execution_count": 395,
      "outputs": [
        {
          "output_type": "stream",
          "name": "stdout",
          "text": [
            "potential_total_value_of_award    1.000000\n",
            "performance_time                 -0.037993\n",
            "parent_award_agency_id           -0.078527\n",
            "Name: potential_total_value_of_award, dtype: float64\n"
          ]
        }
      ]
    },
    {
      "cell_type": "code",
      "source": [
        "# make column an object type\n",
        "df['parent_award_agency_id'] = df['parent_award_agency_id'].astype('object')"
      ],
      "metadata": {
        "id": "lPtmuzXWzwlf"
      },
      "execution_count": 396,
      "outputs": []
    },
    {
      "cell_type": "code",
      "source": [
        "# check missing values of all columns with percentage and count\n",
        "\n",
        "missing_values = df.isnull().sum().div(df.shape[0]).mul(100).to_frame().rename(columns={0: '% of Missing Values'})\n",
        "missing_values['Count of Missing Values'] = df.isnull().sum()\n",
        "sorted_missing_values = missing_values.sort_values(by='% of Missing Values', ascending=False)\n",
        "\n",
        "print(sorted_missing_values)"
      ],
      "metadata": {
        "colab": {
          "base_uri": "https://localhost:8080/"
        },
        "id": "299Daefh1OpG",
        "outputId": "133e6d22-7a20-4495-ebe6-88d5e1ccd126"
      },
      "execution_count": 397,
      "outputs": [
        {
          "output_type": "stream",
          "name": "stdout",
          "text": [
            "                                                    % of Missing Values  \\\n",
            "place_of_manufacture_code                                     49.774043   \n",
            "organizational_type                                           48.148214   \n",
            "solicitation_procedures_code                                  46.571812   \n",
            "minority_owned_business                                       46.208163   \n",
            "woman_owned_business                                          46.208163   \n",
            "foundation                                                    46.208163   \n",
            "educational_institution                                       46.208163   \n",
            "us_local_government                                           46.208163   \n",
            "us_state_government                                           46.208163   \n",
            "federal_agency                                                46.208163   \n",
            "us_federal_government                                         46.208163   \n",
            "community_developed_corporation_owned_firm                    46.208163   \n",
            "emerging_small_business                                       46.208163   \n",
            "us_federal_government                                         46.208163   \n",
            "joint_venture_women_owned_small_business                      46.208163   \n",
            "women_owned_small_business                                    46.208163   \n",
            "contingency_humanitarian_or_peacekeeping_operat...            46.208163   \n",
            "for_profit_organization                                       46.208163   \n",
            "performance_based_service_acquisition_code                    46.208163   \n",
            "consolidated_contract_code                                    46.208163   \n",
            "labor_standards_code                                          46.208163   \n",
            "nonprofit_organization                                        46.208163   \n",
            "private_university_or_college                                 46.208163   \n",
            "sole_proprietorship                                           46.208163   \n",
            "hospital_flag                                                 46.208163   \n",
            "parent_award_agency_id                                        22.698065   \n",
            "action_type_code                                              17.847056   \n",
            "primary_place_of_performance_state_code                        7.018783   \n",
            "inherently_governmental_functions                              6.955232   \n",
            "award_type_code                                                6.909335   \n",
            "contract_bundling_code                                         0.005296   \n",
            "potential_total_value_of_award                                 0.000000   \n",
            "type_of_contract_pricing_code                                  0.000000   \n",
            "funding_office_code                                            0.000000   \n",
            "awarding_office_code                                           0.000000   \n",
            "performance_time                                               0.000000   \n",
            "\n",
            "                                                    Count of Missing Values  \n",
            "place_of_manufacture_code                                             28196  \n",
            "organizational_type                                                   27275  \n",
            "solicitation_procedures_code                                          26382  \n",
            "minority_owned_business                                               26176  \n",
            "woman_owned_business                                                  26176  \n",
            "foundation                                                            26176  \n",
            "educational_institution                                               26176  \n",
            "us_local_government                                                   26176  \n",
            "us_state_government                                                   26176  \n",
            "federal_agency                                                        26176  \n",
            "us_federal_government                                                 26176  \n",
            "community_developed_corporation_owned_firm                            26176  \n",
            "emerging_small_business                                               26176  \n",
            "us_federal_government                                                 26176  \n",
            "joint_venture_women_owned_small_business                              26176  \n",
            "women_owned_small_business                                            26176  \n",
            "contingency_humanitarian_or_peacekeeping_operat...                    26176  \n",
            "for_profit_organization                                               26176  \n",
            "performance_based_service_acquisition_code                            26176  \n",
            "consolidated_contract_code                                            26176  \n",
            "labor_standards_code                                                  26176  \n",
            "nonprofit_organization                                                26176  \n",
            "private_university_or_college                                         26176  \n",
            "sole_proprietorship                                                   26176  \n",
            "hospital_flag                                                         26176  \n",
            "parent_award_agency_id                                                12858  \n",
            "action_type_code                                                      10110  \n",
            "primary_place_of_performance_state_code                                3976  \n",
            "inherently_governmental_functions                                      3940  \n",
            "award_type_code                                                        3914  \n",
            "contract_bundling_code                                                    3  \n",
            "potential_total_value_of_award                                            0  \n",
            "type_of_contract_pricing_code                                             0  \n",
            "funding_office_code                                                       0  \n",
            "awarding_office_code                                                      0  \n",
            "performance_time                                                          0  \n"
          ]
        }
      ]
    },
    {
      "cell_type": "code",
      "source": [
        "rows_with_missing_values = df[df.isnull().any(axis=1)]\n",
        "num_rows_with_missing_values = len(rows_with_missing_values)\n",
        "\n",
        "print(f\"Number of rows with at least one missing value: {num_rows_with_missing_values}\")"
      ],
      "metadata": {
        "colab": {
          "base_uri": "https://localhost:8080/"
        },
        "id": "7YLj0kcm2BTz",
        "outputId": "a7d018c2-24a5-4df5-9998-0e7be11e31ec"
      },
      "execution_count": 398,
      "outputs": [
        {
          "output_type": "stream",
          "name": "stdout",
          "text": [
            "Number of rows with at least one missing value: 37793\n"
          ]
        }
      ]
    },
    {
      "cell_type": "code",
      "source": [
        "total_rows = df.shape[0]\n",
        "rows_with_missing_values = df[df.isnull().any(axis=1)]\n",
        "num_rows_with_missing_values = len(rows_with_missing_values)\n",
        "num_rows_without_missing_values = total_rows - num_rows_with_missing_values\n",
        "print(f\"Number of rows without missing values: {num_rows_without_missing_values}\")"
      ],
      "metadata": {
        "colab": {
          "base_uri": "https://localhost:8080/"
        },
        "id": "dQSjyr4U3QXs",
        "outputId": "93e92d3e-577c-4886-b41d-6665ab6107dc"
      },
      "execution_count": 399,
      "outputs": [
        {
          "output_type": "stream",
          "name": "stdout",
          "text": [
            "Number of rows without missing values: 18855\n"
          ]
        }
      ]
    },
    {
      "cell_type": "code",
      "source": [
        "# create a new dataframe that only takes rows without missing any values\n",
        "\n",
        "df = df.dropna()\n",
        "print(df.shape)"
      ],
      "metadata": {
        "colab": {
          "base_uri": "https://localhost:8080/"
        },
        "id": "bvLP9JN13dT_",
        "outputId": "bf127770-00c1-4b98-c0a6-40ff0b77bf87"
      },
      "execution_count": 400,
      "outputs": [
        {
          "output_type": "stream",
          "name": "stdout",
          "text": [
            "(18855, 36)\n"
          ]
        }
      ]
    },
    {
      "cell_type": "code",
      "source": [
        "# one hot encode all my categorical columns\n",
        "\n",
        "df = pd.get_dummies(df)"
      ],
      "metadata": {
        "colab": {
          "base_uri": "https://localhost:8080/"
        },
        "id": "lg7hQjTI-SEi",
        "outputId": "46cbd330-f615-4bef-bbce-106f37778373"
      },
      "execution_count": 401,
      "outputs": [
        {
          "output_type": "stream",
          "name": "stderr",
          "text": [
            "<ipython-input-401-dc7f5e8bf482>:3: FutureWarning: In a future version, the Index constructor will not infer numeric dtypes when passed object-dtype sequences (matching Series behavior)\n",
            "  df = pd.get_dummies(df)\n"
          ]
        }
      ]
    },
    {
      "cell_type": "code",
      "source": [
        "df.shape"
      ],
      "metadata": {
        "colab": {
          "base_uri": "https://localhost:8080/"
        },
        "id": "dFexshw2IpwM",
        "outputId": "68673947-380e-45de-bc98-f11ed55baf0c"
      },
      "execution_count": 402,
      "outputs": [
        {
          "output_type": "execute_result",
          "data": {
            "text/plain": [
              "(18855, 219)"
            ]
          },
          "metadata": {},
          "execution_count": 402
        }
      ]
    },
    {
      "cell_type": "code",
      "source": [
        "# drop any column that ends in _f - removes collinearity between true and false columns\n",
        "\n",
        "df = df.loc[:, ~df.columns.str.endswith('_f')]"
      ],
      "metadata": {
        "id": "DkwCBQMxIlDt"
      },
      "execution_count": 403,
      "outputs": []
    },
    {
      "cell_type": "code",
      "source": [
        "df.shape"
      ],
      "metadata": {
        "colab": {
          "base_uri": "https://localhost:8080/"
        },
        "id": "kXdHtTsJIrPE",
        "outputId": "47b86b23-7036-4c2e-daac-35d791f9b741"
      },
      "execution_count": 404,
      "outputs": [
        {
          "output_type": "execute_result",
          "data": {
            "text/plain": [
              "(18855, 201)"
            ]
          },
          "metadata": {},
          "execution_count": 404
        }
      ]
    },
    {
      "cell_type": "code",
      "source": [
        "X = df.loc[:, df.columns != 'potential_total_value_of_award']\n",
        "y = df['potential_total_value_of_award']"
      ],
      "metadata": {
        "id": "eSiT83MR3sdk"
      },
      "execution_count": 405,
      "outputs": []
    },
    {
      "cell_type": "code",
      "source": [
        "from sklearn.model_selection import train_test_split\n",
        "\n",
        "X_train, X_test, y_train, y_test = train_test_split(X, y, test_size=0.3, random_state=42)"
      ],
      "metadata": {
        "id": "q0AoTPt_Ywmf"
      },
      "execution_count": 406,
      "outputs": []
    },
    {
      "cell_type": "code",
      "source": [
        "from sklearn.linear_model import LinearRegression\n",
        "from sklearn.metrics import mean_absolute_error, mean_squared_error, r2_score\n",
        "\n",
        "model = LinearRegression()\n",
        "model.fit(X_train, y_train)\n",
        "\n",
        "y_pred = model.predict(X_test)\n",
        "\n",
        "mae = mean_absolute_error(y_test, y_pred)\n",
        "mse = mean_squared_error(y_test, y_pred)\n",
        "r2 = r2_score(y_test, y_pred)\n",
        "\n",
        "print(\"Performance metrics:\")\n",
        "print(f\"Mean Absolute Error (MAE): {mae}\")\n",
        "print(f\"Mean Squared Error (MSE): {mse}\")\n",
        "print(f\"R-squared (R2): {r2}\")"
      ],
      "metadata": {
        "colab": {
          "base_uri": "https://localhost:8080/"
        },
        "id": "AK0agA52-baR",
        "outputId": "cdbc147b-8c33-4e61-f064-8bc7aa8efc99"
      },
      "execution_count": 407,
      "outputs": [
        {
          "output_type": "stream",
          "name": "stdout",
          "text": [
            "Performance metrics:\n",
            "Mean Absolute Error (MAE): 3996297.3644931377\n",
            "Mean Squared Error (MSE): 176633414453592.6\n",
            "R-squared (R2): 0.07919600469760513\n"
          ]
        }
      ]
    },
    {
      "cell_type": "code",
      "source": [
        "from sklearn.linear_model import Lasso, Ridge\n",
        "from sklearn.preprocessing import StandardScaler\n",
        "from sklearn.model_selection import train_test_split\n",
        "from sklearn.metrics import mean_absolute_error, mean_squared_error, r2_score\n",
        "\n",
        "# Scale features\n",
        "scaler = StandardScaler()\n",
        "X_scaled = scaler.fit_transform(X)\n",
        "\n",
        "X_train, X_test, y_train, y_test = train_test_split(X_scaled, y, test_size=0.3, random_state=42)\n",
        "\n",
        "# Lasso Regression\n",
        "lasso_model = Lasso(max_iter=20000, alpha=0.1)\n",
        "lasso_model.fit(X_train, y_train)\n",
        "\n",
        "# Get the indices of top 5 features with strongest coefficients\n",
        "top5_lasso_indices = abs(lasso_model.coef_).argsort()[-5:][::-1]\n",
        "\n",
        "# Print top 5 strongest Lasso coefficients and corresponding feature names\n",
        "print(\"Top 5 Strongest Lasso Regression Coefficients:\")\n",
        "for index in top5_lasso_indices:\n",
        "    print(f'{X.columns[index]}: {lasso_model.coef_[index]}')\n",
        "\n",
        "lasso_y_pred = lasso_model.predict(X_test)\n",
        "\n",
        "lasso_mae = mean_absolute_error(y_test, lasso_y_pred)\n",
        "lasso_mse = mean_squared_error(y_test, lasso_y_pred)\n",
        "lasso_r2 = r2_score(y_test, lasso_y_pred)\n",
        "\n",
        "print(\"\\nLasso Regression Performance:\")\n",
        "print(f\"Mean Absolute Error (MAE): {lasso_mae}\")\n",
        "print(f\"Mean Squared Error (MSE): {lasso_mse}\")\n",
        "print(f\"R-squared (R2): {lasso_r2}\")\n",
        "\n",
        "# Ridge Regression\n",
        "ridge_model = Ridge()\n",
        "ridge_model.fit(X_train, y_train)\n",
        "\n",
        "# Get the indices of top 5 features with strongest coefficients\n",
        "top5_ridge_indices = abs(ridge_model.coef_).argsort()[-5:][::-1]\n",
        "\n",
        "# Print top 5 strongest Ridge coefficients and corresponding feature names\n",
        "print(\"\\nTop 5 Strongest Ridge Regression Coefficients:\")\n",
        "for index in top5_ridge_indices:\n",
        "    print(f'{X.columns[index]}: {ridge_model.coef_[index]}')\n",
        "\n",
        "ridge_y_pred = ridge_model.predict(X_test)\n",
        "\n",
        "ridge_mae = mean_absolute_error(y_test, ridge_y_pred)\n",
        "ridge_mse = mean_squared_error(y_test, ridge_y_pred)\n",
        "ridge_r2 = r2_score(y_test, ridge_y_pred)\n",
        "\n",
        "print(\"\\nRidge Regression Performance:\")\n",
        "print(f\"Mean Absolute Error (MAE): {ridge_mae}\")\n",
        "print(f\"Mean Squared Error (MSE): {ridge_mse}\")\n",
        "print(f\"R-squared (R2): {ridge_r2}\")\n"
      ],
      "metadata": {
        "colab": {
          "base_uri": "https://localhost:8080/"
        },
        "id": "FwDELh3P-55J",
        "outputId": "d356f573-135f-485a-b4b0-46dae80deb1c"
      },
      "execution_count": 408,
      "outputs": [
        {
          "output_type": "stream",
          "name": "stdout",
          "text": [
            "Top 5 Strongest Lasso Regression Coefficients:\n",
            "type_of_contract_pricing_code_K: 13680689.521534624\n",
            "parent_award_agency_id_4740.0: -6790516.884786415\n",
            "solicitation_procedures_code_TS: 4206466.681885892\n",
            "parent_award_agency_id_7529.0: 1596260.204711476\n",
            "parent_award_agency_id_8900.0: 1592352.1975013681\n",
            "\n",
            "Lasso Regression Performance:\n",
            "Mean Absolute Error (MAE): 3211812.059627227\n",
            "Mean Squared Error (MSE): 51380587009430.375\n",
            "R-squared (R2): 0.7321489258098666\n",
            "\n",
            "Top 5 Strongest Ridge Regression Coefficients:\n",
            "type_of_contract_pricing_code_K: 13656470.196606578\n",
            "parent_award_agency_id_4740.0: -6762215.555181501\n",
            "solicitation_procedures_code_TS: 4207547.411159144\n",
            "parent_award_agency_id_7529.0: 1671515.162750474\n",
            "parent_award_agency_id_8900.0: 1604049.0525471466\n",
            "\n",
            "Ridge Regression Performance:\n",
            "Mean Absolute Error (MAE): 3212107.689885108\n",
            "Mean Squared Error (MSE): 51390231310705.79\n",
            "R-squared (R2): 0.7320986493025943\n"
          ]
        },
        {
          "output_type": "stream",
          "name": "stderr",
          "text": [
            "/usr/local/lib/python3.10/dist-packages/sklearn/linear_model/_coordinate_descent.py:631: ConvergenceWarning: Objective did not converge. You might want to increase the number of iterations, check the scale of the features or consider increasing regularisation. Duality gap: 7.193e+16, tolerance: 2.949e+14\n",
            "  model = cd_fast.enet_coordinate_descent(\n"
          ]
        }
      ]
    },
    {
      "cell_type": "code",
      "source": [
        "from sklearn.ensemble import RandomForestRegressor\n",
        "from sklearn.preprocessing import StandardScaler\n",
        "\n",
        "# RandomForestRegressor\n",
        "rf_model = RandomForestRegressor()\n",
        "rf_model.fit(X, y)\n",
        "\n",
        "# Print top 5 RandomForestRegressor feature importances\n",
        "rf_importance_sorted_idx = rf_model.feature_importances_.argsort()[::-1][:5]\n",
        "print(\"\\nTop 5 RandomForestRegressor Feature Importances:\")\n",
        "for idx in rf_importance_sorted_idx:\n",
        "    print(f'{X.columns[idx]}: {rf_model.feature_importances_[idx]}')"
      ],
      "metadata": {
        "colab": {
          "base_uri": "https://localhost:8080/"
        },
        "id": "gNr8yFiDDuSW",
        "outputId": "9290b23e-e2b3-4661-debb-aebd797140f0"
      },
      "execution_count": 409,
      "outputs": [
        {
          "output_type": "stream",
          "name": "stdout",
          "text": [
            "\n",
            "Top 5 RandomForestRegressor Feature Importances:\n",
            "type_of_contract_pricing_code_K: 0.41104949869951457\n",
            "performance_time: 0.2294127840804212\n",
            "inherently_governmental_functions_OT: 0.03853519406282288\n",
            "parent_award_agency_id_4740.0: 0.03126882567403646\n",
            "parent_award_agency_id_7529.0: 0.029827624495447406\n"
          ]
        }
      ]
    },
    {
      "cell_type": "code",
      "source": [
        "from sklearn.feature_selection import RFE\n",
        "from sklearn.linear_model import LinearRegression\n",
        "\n",
        "# Assuming 'X' and 'y' are your feature matrix and target variable\n",
        "model = LinearRegression()\n",
        "rfe = RFE(model, n_features_to_select=1)\n",
        "rfe.fit(X, y)\n",
        "\n",
        "# Get feature rankings\n",
        "feature_rankings = rfe.ranking_\n",
        "\n",
        "# Print top 5 feature coefficients\n",
        "top5_feature_rankings_idx = feature_rankings.argsort()[:5]\n",
        "print(\"Top 5 Feature Coefficients from RFE with Linear Regression:\")\n",
        "for idx in top5_feature_rankings_idx:\n",
        "    print(f'{X.columns[idx]}: {feature_rankings[idx]}')"
      ],
      "metadata": {
        "colab": {
          "base_uri": "https://localhost:8080/"
        },
        "id": "JJlbS2O1EBZi",
        "outputId": "b275db7d-ca4c-48eb-e376-81f97d1cb5c4"
      },
      "execution_count": 410,
      "outputs": [
        {
          "output_type": "stream",
          "name": "stdout",
          "text": [
            "Top 5 Feature Coefficients from RFE with Linear Regression:\n",
            "performance_time: 1\n",
            "sole_proprietorship_t: 2\n",
            "private_university_or_college_t: 3\n",
            "nonprofit_organization_t: 4\n",
            "for_profit_organization_t: 5\n"
          ]
        }
      ]
    }
  ]
}